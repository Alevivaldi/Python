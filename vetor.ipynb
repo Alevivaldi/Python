{
  "nbformat": 4,
  "nbformat_minor": 0,
  "metadata": {
    "colab": {
      "provenance": [],
      "authorship_tag": "ABX9TyOdbMG/MyzXB0jOTveg4hte"
    },
    "kernelspec": {
      "name": "python3",
      "display_name": "Python 3"
    },
    "language_info": {
      "name": "python"
    }
  },
  "cells": [
    {
      "cell_type": "code",
      "execution_count": 44,
      "metadata": {
        "colab": {
          "base_uri": "https://localhost:8080/"
        },
        "id": "RCaVje13kh90",
        "outputId": "8454c327-4124-4ad5-8cb3-d1481fdc1dfb"
      },
      "outputs": [
        {
          "output_type": "stream",
          "name": "stdout",
          "text": [
            "Tamanho da lista é  15\n",
            "conteudo da lista na posicão 2  é  Elis Regina\n",
            "conteudo da lista na posicão 9  é  Moacir Santos\n",
            "conteudo da lista na posicão 14  é  Gal Costa\n"
          ]
        }
      ],
      "source": [
        "lista_musicos = [ 'Djavan', 'Roberto Carlos', 'Elis Regina', 'Tom Jobim'\n",
        ", 'Milton Nascimento', 'Chico Buarque', 'Nara Leão', 'Pitty', 'Simonal'\n",
        ", 'Moacir Santos', 'Caetano Veloso', 'Elza Soares', 'Paulinho da Viola'\n",
        ", 'Yamandú Costa', 'Gal Costa']\n",
        "print(\"Tamanho da lista é \",len(lista_musicos))\n",
        "for i in range(len(lista_musicos)):\n",
        "  if ( i == 2) or (i == 9) or (i ==14):\n",
        "    print(\"conteudo da lista na posicão\" ,i,\" é \",lista_musicos[i])\n",
        "\n",
        "\n",
        "\n"
      ]
    }
  ]
}