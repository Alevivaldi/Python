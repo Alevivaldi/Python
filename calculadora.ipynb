{
  "nbformat": 4,
  "nbformat_minor": 0,
  "metadata": {
    "colab": {
      "provenance": [],
      "authorship_tag": "ABX9TyPXm47qlPQuKfx0IpLd/2bp",
      "include_colab_link": true
    },
    "kernelspec": {
      "name": "python3",
      "display_name": "Python 3"
    },
    "language_info": {
      "name": "python"
    }
  },
  "cells": [
    {
      "cell_type": "markdown",
      "metadata": {
        "id": "view-in-github",
        "colab_type": "text"
      },
      "source": [
        "<a href=\"https://colab.research.google.com/github/Alevivaldi/Python/blob/main/calculadora.ipynb\" target=\"_parent\"><img src=\"https://colab.research.google.com/assets/colab-badge.svg\" alt=\"Open In Colab\"/></a>"
      ]
    },
    {
      "cell_type": "code",
      "execution_count": 1,
      "metadata": {
        "colab": {
          "base_uri": "https://localhost:8080/"
        },
        "id": "KwvBRRwBmaEZ",
        "outputId": "f1b41113-a8d2-4c1b-e065-b1dedfae8416"
      },
      "outputs": [
        {
          "output_type": "stream",
          "name": "stdout",
          "text": [
            "12\n"
          ]
        }
      ],
      "source": [
        "def calculadora(n1, n2, operacao):\n",
        "  if(operacao == \"soma\"):\n",
        "    resultado = n1 + n2\n",
        "  elif (operacao == \"subtracao\"):\n",
        "    resultado = n1 - n2\n",
        "  elif (operacao == \"multiplicacao\"):\n",
        "    resultado = n1 * n2\n",
        "  elif (operacao == \"divisao\"):\n",
        "    resultado = n1 / n2\n",
        "  else:\n",
        "    print(\"operação invalida\")\n",
        "  return resultado\n",
        "print (calculadora(10,2,\"soma\"))\n"
      ]
    }
  ]
}