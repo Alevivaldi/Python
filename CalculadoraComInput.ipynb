{
  "nbformat": 4,
  "nbformat_minor": 0,
  "metadata": {
    "colab": {
      "provenance": [],
      "authorship_tag": "ABX9TyOEeni6be5WJA4Xk+9fLmyE"
    },
    "kernelspec": {
      "name": "python3",
      "display_name": "Python 3"
    },
    "language_info": {
      "name": "python"
    }
  },
  "cells": [
    {
      "cell_type": "code",
      "execution_count": 12,
      "metadata": {
        "colab": {
          "base_uri": "https://localhost:8080/"
        },
        "id": "HwPehyClEY3g",
        "outputId": "00af3262-82f0-447e-930a-d5e370b0201d"
      },
      "outputs": [
        {
          "output_type": "stream",
          "name": "stdout",
          "text": [
            "Digite o primeiro numero \n",
            "10\n",
            "Digite o segundo numero \n",
            "20\n",
            "Qual Operacao Deseja fazer?\n",
            "multiplicacao\n",
            "200\n"
          ]
        }
      ],
      "source": [
        "def calculadora(n1,n2,opcao):\n",
        "  sair = \"sim\"\n",
        "  while(sair == 'sim'):\n",
        "    if(opcao == \"soma\"):\n",
        "      return n1 + n2\n",
        "    elif(opcao == \"subtracao\"):\n",
        "     return n1 - n2\n",
        "    elif(opcao == \"multiplicacao\"):\n",
        "     return n1 * n2\n",
        "    elif (opcao == \"divisao\"):\n",
        "     return n1 /n2\n",
        "  print(\"Deseja Continuar\")\n",
        "  sair = input()\n",
        "\n",
        "print(\"Digite o primeiro numero \")\n",
        "n1 = int(input())\n",
        "print(\"Digite o segundo numero \")\n",
        "n2 = int(input())\n",
        "print (\"Qual Operacao Deseja fazer?\")\n",
        "opcao = input()\n",
        "print (calculadora(n1,n2,opcao))"
      ]
    }
  ]
}