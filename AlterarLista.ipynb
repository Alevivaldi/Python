{
  "nbformat": 4,
  "nbformat_minor": 0,
  "metadata": {
    "colab": {
      "provenance": [],
      "authorship_tag": "ABX9TyNTk+BfZlq10TD4bdB4diKH"
    },
    "kernelspec": {
      "name": "python3",
      "display_name": "Python 3"
    },
    "language_info": {
      "name": "python"
    }
  },
  "cells": [
    {
      "cell_type": "code",
      "execution_count": 134,
      "metadata": {
        "colab": {
          "base_uri": "https://localhost:8080/"
        },
        "id": "RCaVje13kh90",
        "outputId": "6f1c001e-ddac-4a55-9586-d64278d913cc"
      },
      "outputs": [
        {
          "output_type": "stream",
          "name": "stdout",
          "text": [
            "['máscaras mecânicas', 'rimel', 'esmaltes', 'perfumes', 'loções', 'xampus', 'sabonetes', 'delineadores'] \n",
            "\n",
            "['máscaras mecânicas', 'rimel', 'esmaltes', 'perfumes', 'cremes hidratantesimel', 'xampus', 'sabonetes', 'delineadores'] \n",
            "\n",
            "['máscaras mecânicas', 'rimel', 'esmaltes', 'perfumes', 'cremes hidratantesimel', 'xampus', 'sabonetes', 'delineadores', 'condicionador', 'alicate']\n"
          ]
        }
      ],
      "source": [
        "lista_produtos = ['máscaras mecânicas','batons','esmaltes','perfumes',\n",
        "'loções','xampus','sabonetes','delineadores']\n",
        "\n",
        "#print(lista_produtos)\n",
        "try:\n",
        " if(lista_produtos.index('batons') != None):\n",
        "\n",
        "   x = lista_produtos.index('batons')\n",
        "   lista_produtos.remove('batons')\n",
        "   lista_produtos.insert(x,'rimel')\n",
        "   print(lista_produtos,\"\\n\")\n",
        "except:\n",
        " print(\"item não existe\")\n",
        "\n",
        "try:\n",
        " if(lista_produtos.index('loções') != None):\n",
        "\n",
        "   y = lista_produtos.index('loções')\n",
        "   lista_produtos.remove('loções')\n",
        "   lista_produtos.insert(y,'cremes hidratantesimel')\n",
        "   print(lista_produtos,\"\\n\")\n",
        "except:\n",
        " print(\"item não existe\")\n",
        "\n",
        "lista_produtos.append('condicionador')\n",
        "lista_produtos.append('alicate')\n",
        "\n",
        "print(lista_produtos)\n",
        "\n",
        "\n",
        "\n",
        "\n"
      ]
    }
  ]
}