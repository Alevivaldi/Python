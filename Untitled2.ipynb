{
  "nbformat": 4,
  "nbformat_minor": 0,
  "metadata": {
    "colab": {
      "provenance": [],
      "authorship_tag": "ABX9TyOnkcQdrBJRU39oicrDu1xs",
      "include_colab_link": true
    },
    "kernelspec": {
      "name": "python3",
      "display_name": "Python 3"
    },
    "language_info": {
      "name": "python"
    }
  },
  "cells": [
    {
      "cell_type": "markdown",
      "metadata": {
        "id": "view-in-github",
        "colab_type": "text"
      },
      "source": [
        "<a href=\"https://colab.research.google.com/github/Alevivaldi/Python/blob/main/Untitled2.ipynb\" target=\"_parent\"><img src=\"https://colab.research.google.com/assets/colab-badge.svg\" alt=\"Open In Colab\"/></a>"
      ]
    },
    {
      "cell_type": "code",
      "execution_count": 19,
      "metadata": {
        "colab": {
          "base_uri": "https://localhost:8080/"
        },
        "id": "HwPehyClEY3g",
        "outputId": "db20bee5-b496-4f26-c768-1ad203c636ef"
      },
      "outputs": [
        {
          "name": "stdout",
          "output_type": "stream",
          "text": [
            "Digite o primeiro numero \n",
            "10\n",
            "Digite o segundo numero \n",
            "20\n",
            "Qual Operacao Deseja fazer?\n",
            "soma\n",
            "30\n",
            "Deseja Continuar\n",
            "sim\n",
            "Digite o primeiro numero \n",
            "30\n",
            "Digite o segundo numero \n",
            "10\n",
            "Qual Operacao Deseja fazer?\n",
            "subtracao\n",
            "20\n",
            "Deseja Continuar\n",
            "nao\n"
          ]
        }
      ],
      "source": [
        "def calculadora(n1,n2,opcao):\n",
        "\n",
        "    if(opcao == \"soma\"):\n",
        "      return n1 + n2\n",
        "\n",
        "    elif(opcao == \"subtracao\"):\n",
        "     return n1 - n2\n",
        "\n",
        "    elif(opcao == \"multiplicacao\"):\n",
        "     return n1 * n2\n",
        "\n",
        "    elif (opcao == \"divisao\"):\n",
        "     return n1 /n2\n",
        "\n",
        "\n",
        "\n",
        "sair = \"sim\"\n",
        "while(sair == 'sim'):\n",
        "  print(\"Digite o primeiro numero \")\n",
        "  n1 = int(input())\n",
        "  print(\"Digite o segundo numero \")\n",
        "  n2 = int(input())\n",
        "  print (\"Qual Operacao Deseja fazer?\")\n",
        "  opcao = input()\n",
        "  print (calculadora(n1,n2,opcao))\n",
        "  print(\"Deseja Continuar\")\n",
        "  sair = input()"
      ]
    }
  ]
}