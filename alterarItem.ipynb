{
  "nbformat": 4,
  "nbformat_minor": 0,
  "metadata": {
    "colab": {
      "provenance": [],
      "authorship_tag": "ABX9TyPnxj/tPOauzMNOUS81JZrj"
    },
    "kernelspec": {
      "name": "python3",
      "display_name": "Python 3"
    },
    "language_info": {
      "name": "python"
    }
  },
  "cells": [
    {
      "cell_type": "code",
      "execution_count": 130,
      "metadata": {
        "colab": {
          "base_uri": "https://localhost:8080/"
        },
        "id": "RCaVje13kh90",
        "outputId": "0e0c0df6-5dd9-41e2-cba7-fbd8d5c88a7c"
      },
      "outputs": [
        {
          "output_type": "stream",
          "name": "stdout",
          "text": [
            "['máscaras mecânicas', 'rimel', 'esmaltes', 'perfumes', 'loções', 'xampus', 'sabonetes', 'delineadores']\n",
            "\n",
            " ['máscaras mecânicas', 'rimel', 'esmaltes', 'perfumes', 'cremes hidratantesimel', 'xampus', 'sabonetes', 'delineadores']\n"
          ]
        }
      ],
      "source": [
        "lista_produtos = ['máscaras mecânicas','batons','esmaltes','perfumes',\n",
        "'loções','xampus','sabonetes','delineadores']\n",
        "\n",
        "#print(lista_produtos)\n",
        "try:\n",
        " if(lista_produtos.index('batons') != None):\n",
        "\n",
        "   x = lista_produtos.index('batons')\n",
        "   lista_produtos.remove('batons')\n",
        "   lista_produtos.insert(x,'rimel')\n",
        "   print(lista_produtos)\n",
        "except:\n",
        " print(\"item não existe\")\n",
        "\n",
        "try:\n",
        " if(lista_produtos.index('loções') != None):\n",
        "\n",
        "   y = lista_produtos.index('loções')\n",
        "   lista_produtos.remove('loções')\n",
        "   lista_produtos.insert(y,'cremes hidratantesimel')\n",
        "   print(\"\\n\",lista_produtos)\n",
        "except:\n",
        " print(\"item não existe\")\n",
        "\n",
        "\n",
        "\n",
        "\n",
        "\n",
        "\n"
      ]
    }
  ]
}