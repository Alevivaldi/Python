{
  "nbformat": 4,
  "nbformat_minor": 0,
  "metadata": {
    "colab": {
      "provenance": [],
      "authorship_tag": "ABX9TyMRiMoozHUtlZtap7VVgbfz",
      "include_colab_link": true
    },
    "kernelspec": {
      "name": "python3",
      "display_name": "Python 3"
    },
    "language_info": {
      "name": "python"
    }
  },
  "cells": [
    {
      "cell_type": "markdown",
      "metadata": {
        "id": "view-in-github",
        "colab_type": "text"
      },
      "source": [
        "<a href=\"https://colab.research.google.com/github/Alevivaldi/Python/blob/main/exercici2.ipynb\" target=\"_parent\"><img src=\"https://colab.research.google.com/assets/colab-badge.svg\" alt=\"Open In Colab\"/></a>"
      ]
    },
    {
      "cell_type": "code",
      "execution_count": 20,
      "metadata": {
        "colab": {
          "base_uri": "https://localhost:8080/"
        },
        "id": "sO1cgpXhedVU",
        "outputId": "474dafe7-8d50-4579-bba3-c6dd43727895"
      },
      "outputs": [
        {
          "output_type": "stream",
          "name": "stdout",
          "text": [
            "regue os tomates \n",
            "regue os tomates \n",
            "regue as batatas\n",
            "regue as batatas\n",
            "regue os tomates \n",
            "regue os tomates \n"
          ]
        }
      ],
      "source": [
        "\n",
        "def regar(k):\n",
        "  while (k < 6):\n",
        "    if (k < 2) or (k > 3):\n",
        "      print(\"regue os tomates \")\n",
        "    else:\n",
        "      print(\"regue as batatas\")\n",
        "    k+=1\n",
        "k=0\n",
        "regar(k)"
      ]
    }
  ]
}