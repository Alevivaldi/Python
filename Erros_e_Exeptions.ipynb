{
  "nbformat": 4,
  "nbformat_minor": 0,
  "metadata": {
    "colab": {
      "provenance": [],
      "authorship_tag": "ABX9TyMrjGAIsjSNho3sJnMu14CI"
    },
    "kernelspec": {
      "name": "python3",
      "display_name": "Python 3"
    },
    "language_info": {
      "name": "python"
    }
  },
  "cells": [
    {
      "cell_type": "code",
      "execution_count": 35,
      "metadata": {
        "colab": {
          "base_uri": "https://localhost:8080/"
        },
        "id": "HwPehyClEY3g",
        "outputId": "c1a7eb3a-8d75-4eee-cc20-544704faa70c"
      },
      "outputs": [
        {
          "output_type": "stream",
          "name": "stdout",
          "text": [
            "Digite seu nome Completo\n",
            "Alex Costa \n",
            "DIgite o ano de nascimento\n",
            "Alex Costa\n",
            "Dados invalidos\n"
          ]
        }
      ],
      "source": [
        "from ast import And\n",
        "\n",
        "try:\n",
        "  print(\"Digite seu nome Completo\")\n",
        "  nome = input()\n",
        "  print(\"DIgite o ano de nascimento\")\n",
        "  ano = int(input())\n",
        "  if (ano > 1921) and (ano <2022 ) and (ano != None):\n",
        "    soma = 2022 - ano\n",
        "    print(\"Seu nome é \", nome)\n",
        "    print(\"sua Idade é \", soma)\n",
        "  else:\n",
        "    print(\"erro\")\n",
        "except ValueError:\n",
        "  print(\"Dados invalidos\")"
      ]
    }
  ]
}