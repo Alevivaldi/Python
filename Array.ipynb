{
  "nbformat": 4,
  "nbformat_minor": 0,
  "metadata": {
    "colab": {
      "provenance": [],
      "authorship_tag": "ABX9TyPQF/KDe2QG+1jKX8kZtxAz"
    },
    "kernelspec": {
      "name": "python3",
      "display_name": "Python 3"
    },
    "language_info": {
      "name": "python"
    }
  },
  "cells": [
    {
      "cell_type": "code",
      "execution_count": 21,
      "metadata": {
        "colab": {
          "base_uri": "https://localhost:8080/"
        },
        "id": "RCaVje13kh90",
        "outputId": "d012e7a8-5fec-4b3e-d49d-dcdb58c5277d"
      },
      "outputs": [
        {
          "output_type": "stream",
          "name": "stdout",
          "text": [
            "Arroz\n",
            "feijao\n",
            "macarrao\n",
            "Lata de Oleo\n",
            "Tomate\n",
            "1960\n",
            "1977\n",
            "1999\n",
            "1955\n",
            "2000\n"
          ]
        }
      ],
      "source": [
        "listaComida = []\n",
        "listaComida.append(\"Arroz\")\n",
        "listaComida.append(\"feijao\")\n",
        "listaComida.append(\"macarrao\")\n",
        "listaComida.append(\"Lata de Oleo\")\n",
        "listaComida.append(\"Tomate\")\n",
        "x = len(listaComida)\n",
        "for i in range(x):\n",
        "  print(listaComida[i])\n",
        "\n",
        "listaAno = []\n",
        "listaAno.append(2000)\n",
        "listaAno.append(1960)\n",
        "listaAno.append(1977)\n",
        "listaAno.append(1999)\n",
        "listaAno.append(1955)\n",
        "listaAno.append(2000)\n",
        "listaAno.remove(2000)\n",
        "\n",
        "k = len(listaAno)\n",
        "for i in range(k):\n",
        "  print(listaAno[i])"
      ]
    }
  ]
}