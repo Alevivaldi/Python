{
  "nbformat": 4,
  "nbformat_minor": 0,
  "metadata": {
    "colab": {
      "provenance": [],
      "authorship_tag": "ABX9TyOIdfMG0DqekEtwygmKQWTd"
    },
    "kernelspec": {
      "name": "python3",
      "display_name": "Python 3"
    },
    "language_info": {
      "name": "python"
    }
  },
  "cells": [
    {
      "cell_type": "code",
      "execution_count": 35,
      "metadata": {
        "colab": {
          "base_uri": "https://localhost:8080/"
        },
        "id": "sO1cgpXhedVU",
        "outputId": "852b6a9a-46d3-4902-c8bb-97297a6d7c6b"
      },
      "outputs": [
        {
          "output_type": "stream",
          "name": "stdout",
          "text": [
            "regue as cenouras \n",
            "regue as batatas\n",
            "regue os tomates\n",
            "regue as cenouras \n",
            "regue as batatas\n",
            "regue os tomates\n"
          ]
        }
      ],
      "source": [
        "\n",
        "def regar(k):\n",
        "  while (k >= 0):\n",
        "    if (k == 5) or (k == 2):\n",
        "      print(\"regue as cenouras \")\n",
        "    elif( k == 4) or ( k == 1):\n",
        "      print(\"regue as batatas\")\n",
        "    else:\n",
        "      print( \"regue os tomates\")\n",
        "\n",
        "    k-=1\n",
        "k=5\n",
        "regar(k)"
      ]
    }
  ]
}