{
  "nbformat": 4,
  "nbformat_minor": 0,
  "metadata": {
    "colab": {
      "provenance": [],
      "authorship_tag": "ABX9TyNp2pAxdaD8klQ5sK6JuWet"
    },
    "kernelspec": {
      "name": "python3",
      "display_name": "Python 3"
    },
    "language_info": {
      "name": "python"
    }
  },
  "cells": [
    {
      "cell_type": "code",
      "execution_count": 1,
      "metadata": {
        "colab": {
          "base_uri": "https://localhost:8080/"
        },
        "id": "fAM2LOMjrL3X",
        "outputId": "48a76cf0-c830-4972-ac2b-6463914856ba"
      },
      "outputs": [
        {
          "output_type": "stream",
          "name": "stdout",
          "text": [
            "5.0\n"
          ]
        }
      ],
      "source": [
        "def calculadora(n1, n2, operacao):\n",
        "  if(operacao == \"soma\"):\n",
        "    resultado = n1 + n2\n",
        "  elif (operacao == \"subtracao\"):\n",
        "    resultado = n1 - n2\n",
        "  elif (operacao == \"multiplicacao\"):\n",
        "    resultado = n1 * n2\n",
        "  elif (operacao == \"divisao\"):\n",
        "    resultado = n1 / n2\n",
        "  else:\n",
        "    print(\"operação invalida\")\n",
        "  return resultado\n",
        "print (calculadora(10, 2,\"divisao\"))"
      ]
    }
  ]
}