{
  "nbformat": 4,
  "nbformat_minor": 0,
  "metadata": {
    "colab": {
      "provenance": [],
      "authorship_tag": "ABX9TyOrmx4ySfn/fRTuXIQof5E/"
    },
    "kernelspec": {
      "name": "python3",
      "display_name": "Python 3"
    },
    "language_info": {
      "name": "python"
    }
  },
  "cells": [
    {
      "cell_type": "code",
      "execution_count": 45,
      "metadata": {
        "colab": {
          "base_uri": "https://localhost:8080/"
        },
        "id": "RCaVje13kh90",
        "outputId": "4f4bdfee-abf8-4043-8c92-475eb92dbc4f"
      },
      "outputs": [
        {
          "output_type": "stream",
          "name": "stdout",
          "text": [
            "Temos  máscaras faciais  A venda!\n",
            "Temos  batons  A venda!\n",
            "Temos  esmaltes  A venda!\n",
            "Temos  perfumes  A venda!\n",
            "Temos  loções  A venda!\n",
            "Temos  xampus  A venda!\n",
            "Temos  sabonetes  A venda!\n",
            "Temos  delineadores  A venda!\n"
          ]
        }
      ],
      "source": [
        "lista_produtos = ['máscaras faciais', 'batons', 'esmaltes', 'perfumes'\n",
        ", 'loções', 'xampus', 'sabonetes', 'delineadores']\n",
        "for i in range(len(lista_produtos)):\n",
        "  print(\"Temos \",lista_produtos[i], \" A venda!\")\n",
        "\n",
        "\n",
        "\n"
      ]
    }
  ]
}