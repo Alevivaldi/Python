{
  "nbformat": 4,
  "nbformat_minor": 0,
  "metadata": {
    "colab": {
      "provenance": [],
      "authorship_tag": "ABX9TyPb9IxBJ826Tn8u9OgxQCXh"
    },
    "kernelspec": {
      "name": "python3",
      "display_name": "Python 3"
    },
    "language_info": {
      "name": "python"
    }
  },
  "cells": [
    {
      "cell_type": "code",
      "execution_count": 15,
      "metadata": {
        "colab": {
          "base_uri": "https://localhost:8080/"
        },
        "id": "sO1cgpXhedVU",
        "outputId": "61f66659-2383-49ab-95c8-722c6c7b0cce"
      },
      "outputs": [
        {
          "output_type": "stream",
          "name": "stdout",
          "text": [
            "regue os tomates \n",
            "regue os tomates \n",
            "regue os tomates \n",
            "regue as batatas\n",
            "regue as batatas\n",
            "regue as batatas\n"
          ]
        }
      ],
      "source": [
        "\n",
        "def regar(k):\n",
        "  while (k < 6):\n",
        "    if (k < 3):\n",
        "      print(\"regue os tomates \")\n",
        "    else:\n",
        "      print(\"regue as batatas\")\n",
        "    k+=1\n",
        "k=0\n",
        "regar(k)"
      ]
    }
  ]
}